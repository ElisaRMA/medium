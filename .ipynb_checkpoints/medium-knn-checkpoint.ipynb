{
 "cells": [
  {
   "cell_type": "code",
   "execution_count": 5,
   "id": "e838fb6e",
   "metadata": {
    "ExecuteTime": {
     "end_time": "2022-09-18T00:24:12.136709Z",
     "start_time": "2022-09-18T00:24:12.128731Z"
    }
   },
   "outputs": [],
   "source": [
    "import warnings\n",
    "warnings.filterwarnings('ignore')"
   ]
  },
  {
   "cell_type": "code",
   "execution_count": 24,
   "id": "2037eb07",
   "metadata": {
    "ExecuteTime": {
     "end_time": "2022-09-18T01:12:46.512110Z",
     "start_time": "2022-09-18T01:12:44.831626Z"
    }
   },
   "outputs": [
    {
     "data": {
      "image/png": "[encoded data removed]",
      "text/plain": [
       "<Figure size 1080x360 with 3 Axes>"
      ]
     },
     "metadata": {},
     "output_type": "display_data"
    }
   ],
   "source": [
    "from sklearn.neighbors import KNeighborsClassifier\n",
    "from sklearn.model_selection import train_test_split\n",
    "import matplotlib.pyplot as plt\n",
    "import mglearn\n",
    "\n",
    "X,y = mglearn.datasets.make_forge()\n",
    "X_train,X_test, y_train, y_test = train_test_split(X,y, random_state=2187)\n",
    "fig, axes = plt.subplots(1,3,figsize=(15,5))\n",
    "\n",
    "for n_neighbors, ax in zip([1,3,17],axes):\n",
    "    clf=KNeighborsClassifier(n_neighbors=n_neighbors).fit(X_train,y_train)\n",
    "    mglearn.plots.plot_2d_separator(clf,X, fill=True, eps=0.5, ax=ax, alpha=.4)\n",
    "    mglearn.discrete_scatter(X[:,0], X[:,1], y, ax=ax)\n",
    "    ax.set_title(f\"{n_neighbors} neighbor(s)\")\n",
    "    ax.set_xlabel(\"feature 0\")\n",
    "    ax.set_ylabel(\"feature 1\")"
   ]
  },
  {
   "cell_type": "code",
   "execution_count": 1,
   "id": "67b68423",
   "metadata": {
    "ExecuteTime": {
     "end_time": "2022-09-18T01:43:57.683151Z",
     "start_time": "2022-09-18T01:43:55.060796Z"
    }
   },
   "outputs": [
    {
     "name": "stdout",
     "output_type": "stream",
     "text": [
      "Train score for k = 1: 1.0\n",
      "Test score for  k = 1: 0.8951048951048951\n",
      "-----\n",
      "Train score for k = 5: 0.9507042253521126\n",
      "Test score for  k = 5: 0.9370629370629371\n",
      "-----\n",
      "Train score for k = 405: 0.6173708920187794\n",
      "Test score for  k = 405: 0.6573426573426573\n",
      "-----\n"
     ]
    }
   ],
   "source": [
    "from sklearn.neighbors import KNeighborsClassifier\n",
    "from sklearn.model_selection import train_test_split\n",
    "import mglearn\n",
    "from sklearn.model_selection import cross_val_score\n",
    "from sklearn.datasets import load_breast_cancer\n",
    "\n",
    "cancer = load_breast_cancer()\n",
    "X = cancer.data\n",
    "y = cancer.target\n",
    "\n",
    "X_train,X_test, y_train, y_test = train_test_split(X,y, random_state=2187)\n",
    "\n",
    "for n_neighbors in [1,5,405]:\n",
    "    clf=KNeighborsClassifier(n_neighbors=n_neighbors).fit(X_train,y_train)\n",
    "    print(f\"Train score for k = {n_neighbors}: {clf.score(X_train,y_train)}\")\n",
    "    print(f\"Test score for  k = {n_neighbors}: {clf.score(X_test,y_test)}\")\n",
    "    print(\"-----\")"
   ]
  },
  {
   "cell_type": "code",
   "execution_count": 12,
   "id": "5267e0a3",
   "metadata": {
    "ExecuteTime": {
     "end_time": "2022-09-18T22:29:57.686072Z",
     "start_time": "2022-09-18T22:29:57.640228Z"
    }
   },
   "outputs": [
    {
     "name": "stdout",
     "output_type": "stream",
     "text": [
      "The score when data is scaled is 0.77\n",
      "The score when the data is NOT scaled is 0.51\n"
     ]
    }
   ],
   "source": [
    "import pandas as pd\n",
    "from sklearn.neighbors import KNeighborsClassifier\n",
    "from sklearn.model_selection import train_test_split\n",
    "from sklearn.preprocessing import StandardScaler\n",
    "from sklearn.pipeline import Pipeline\n",
    "\n",
    "music = pd.read_csv('music_clean.csv', index_col=[0])\n",
    "X = music.drop('genre', axis=1)\n",
    "y = music[\"genre\"]\n",
    "\n",
    "X_train, X_test, y_train, y_test = train_test_split(X, y, test_size=0.2, random_state=42)\n",
    "\n",
    "# Create pipeline steps\n",
    "steps_scale = [(\"scaler\", StandardScaler()),\n",
    "               (\"knn\", KNeighborsClassifier(n_neighbors=6))]\n",
    "\n",
    "steps_noscale = [(\"knn\", KNeighborsClassifier(n_neighbors=6))]\n",
    "\n",
    "# Scaled data \n",
    "pipeline_scaled = Pipeline(steps_scale)\n",
    "pipeline_scaled.fit(X_train, y_train)\n",
    "print(f\"The score when data is scaled is {pipeline_scaled.score(X_test, y_test)}\")\n",
    "\n",
    "# on-Scaled data \n",
    "pipeline_noscaled = Pipeline(steps_noscale)\n",
    "pipeline_noscaled.fit(X_train, y_train)\n",
    "print(f\"The score when the data is NOT scaled is {pipeline_noscaled.score(X_test, y_test)}\")"
   ]
  },
  {
   "cell_type": "code",
   "execution_count": null,
   "id": "38f92d5b",
   "metadata": {},
   "outputs": [],
   "source": [
    "# Import StandardScaler\n",
    "from sklearn.preprocessing import StandardScaler\n",
    "\n",
    "# Create pipeline steps\n",
    "steps_scale = [(\"scaler\", StandardScaler()),\n",
    "               (\"knn\", KNeighborsClassifier(n_neighbors=6))]\n",
    "\n",
    "steps_noscale = [(\"knn\", KNeighborsClassifier(n_neighbors=6))]\n",
    "\n",
    "# Instantiate the pipeline\n",
    "pipeline_scaled = Pipeline(steps_scale)\n",
    "pipeline_scaled.fit(X_train, y_train)\n",
    "print(pipeline_scaled.score(X_test, y_test))\n",
    "\n",
    "pipeline_noscaled = Pipeline(steps_noscale)\n",
    "pipeline_scaled.fit(X_train, y_train)\n",
    "print(pipeline_scaled.score(X_test, y_test))\n",
    "\n",
    "# Calculate and print R-squared\n",
    "print(pipeline.score(X_test, y_test))\n",
    "\n",
    "# Build the steps\n",
    "steps = [(\"scaler\", StandardScaler()),\n",
    "         (\"logreg\", LogisticRegression())]\n",
    "pipeline = Pipeline(steps)\n",
    "\n",
    "# Create the parameter space\n",
    "parameters = {\"logreg__C\": np.linspace(0.001, 1.0, 20)}\n",
    "\n",
    "X_train, X_test, y_train, y_test = train_test_split(X, y, test_size=0.2, \n",
    "                                                    random_state=21)\n",
    "\n",
    "# Instantiate the grid search object\n",
    "cv = GridSearchCV(pipeline, param_grid=parameters)\n",
    "\n",
    "# Fit to the training data\n",
    "cv.fit(X_train, y_train)\n",
    "print(cv.best_score_, \"\\n\", cv.best_params_)"
   ]
  }
 ],
 "metadata": {
  "kernelspec": {
   "display_name": "Python 3 (ipykernel)",
   "language": "python",
   "name": "python3"
  },
  "language_info": {
   "codemirror_mode": {
    "name": "ipython",
    "version": 3
   },
   "file_extension": ".py",
   "mimetype": "text/x-python",
   "name": "python",
   "nbconvert_exporter": "python",
   "pygments_lexer": "ipython3",
   "version": "3.9.7"
  },
  "varInspector": {
   "cols": {
    "lenName": 16,
    "lenType": 16,
    "lenVar": 40
   },
   "kernels_config": {
    "python": {
     "delete_cmd_postfix": "",
     "delete_cmd_prefix": "del ",
     "library": "var_list.py",
     "varRefreshCmd": "print(var_dic_list())"
    },
    "r": {
     "delete_cmd_postfix": ") ",
     "delete_cmd_prefix": "rm(",
     "library": "var_list.r",
     "varRefreshCmd": "cat(var_dic_list()) "
    }
   },
   "types_to_exclude": [
    "module",
    "function",
    "builtin_function_or_method",
    "instance",
    "_Feature"
   ],
   "window_display": false
  }
 },
 "nbformat": 4,
 "nbformat_minor": 5
}
